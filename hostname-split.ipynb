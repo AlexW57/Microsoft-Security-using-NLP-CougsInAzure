{
  "cells": [
    {
      "cell_type": "code",
      "source": [
        "import numpy as np\r\n",
        "import pandas as pd \r\n",
        "from collections import Counter\r\n",
        "import pandas\r\n",
        "import csv\r\n",
        "from collections import OrderedDict\r\n",
        "from operator import itemgetter\r\n",
        "from azureml.core import Workspace, Dataset\r\n",
        "import random\r\n",
        "import requests\r\n",
        "from sklearn.tree import DecisionTreeClassifier\r\n",
        "from sklearn.neighbors import KNeighborsClassifier\r\n",
        "from sklearn.linear_model import LogisticRegression\r\n",
        "from sklearn.svm import SVC\r\n",
        "from sklearn.model_selection import train_test_split\r\n",
        "import re"
      ],
      "outputs": [],
      "execution_count": 3,
      "metadata": {
        "gather": {
          "logged": 1605822371455
        }
      }
    },
    {
      "cell_type": "code",
      "source": [
        "subscription_id = '9d0dfa04-d2f8-4521-b945-b3a7dbf43946'\r\n",
        "resource_group = 'NLP_Project'\r\n",
        "workspace_name = 'CougsInAzure'\r\n",
        "workspace = Workspace(subscription_id, resource_group, workspace_name)\r\n",
        "dataset = Dataset.get_by_name(workspace, name='marx')\r\n"
      ],
      "outputs": [],
      "execution_count": 4,
      "metadata": {
        "collapsed": true,
        "jupyter": {
          "source_hidden": false,
          "outputs_hidden": false
        },
        "nteract": {
          "transient": {
            "deleting": false
          }
        },
        "gather": {
          "logged": 1605822409612
        }
      }
    },
    {
      "cell_type": "code",
      "source": [
        "df = dataset.to_pandas_dataframe()\r\n",
        "df = df.astype(str)\r\n",
        "df = df[df['proto'] != 'ICMP']\r\n",
        "# Data files from: #https://github.com/danielmiessler/SecLists/blob/master/Usernames/xato-net-10-million-usernames.txt\r\n",
        "\r\n",
        "dateTime= df[\"datetime\"].drop_duplicates().to_list()\r\n",
        "host = df[\"host\"].drop_duplicates().to_list()\r\n",
        "ip_list = df[\"srcstr\"].to_list()\r\n",
        "port_list = df[\"spt\"].apply(lambda x : x.split(\".\")[0])"
      ],
      "outputs": [],
      "execution_count": 5,
      "metadata": {
        "collapsed": true,
        "jupyter": {
          "source_hidden": false,
          "outputs_hidden": false
        },
        "nteract": {
          "transient": {
            "deleting": false
          }
        },
        "gather": {
          "logged": 1605822425242
        }
      }
    },
    {
      "cell_type": "code",
      "source": [
        "dateTime= df[\"datetime\"].drop_duplicates().to_list()\r\n",
        "host = df[\"host\"].drop_duplicates().to_list()\r\n",
        "ip_list = df[\"srcstr\"].to_list()\r\n",
        "port_list = df[\"spt\"].apply(lambda x : x.split(\".\")[0])"
      ],
      "outputs": [],
      "execution_count": 6,
      "metadata": {
        "collapsed": true,
        "jupyter": {
          "source_hidden": false,
          "outputs_hidden": false
        },
        "nteract": {
          "transient": {
            "deleting": false
          }
        },
        "gather": {
          "logged": 1605822426957
        }
      }
    },
    {
      "cell_type": "code",
      "source": [
        "def randomNames(arg):\r\n",
        "    switch = {\r\n",
        "        1: \"_Microsoft\",\r\n",
        "        2: \"&1Apple\",\r\n",
        "        3: \"-21IBM\",\r\n",
        "        4: \"-CougsInAzure\",\r\n",
        "        5: \"_Dell\"\r\n",
        "    }\r\n",
        "    return switch.get(arg, None)"
      ],
      "outputs": [],
      "execution_count": 7,
      "metadata": {
        "collapsed": true,
        "jupyter": {
          "source_hidden": false,
          "outputs_hidden": false
        },
        "nteract": {
          "transient": {
            "deleting": false
          }
        },
        "gather": {
          "logged": 1605822428458
        }
      }
    },
    {
      "cell_type": "code",
      "source": [
        "# funtion to transform a pair into a json string\r\n",
        "def dataJsonString(location):\r\n",
        "    d = \"{data:{'hostname':\" + location + \"}}\"\r\n",
        "    return str(d)"
      ],
      "outputs": [],
      "execution_count": 8,
      "metadata": {
        "collapsed": true,
        "jupyter": {
          "source_hidden": false,
          "outputs_hidden": false
        },
        "nteract": {
          "transient": {
            "deleting": false
          }
        },
        "gather": {
          "logged": 1605822430881
        }
      }
    },
    {
      "cell_type": "code",
      "source": [
        "def falseDataJsonString(num):\r\n",
        "    x = random.randint(0,3)\r\n",
        "    # Family\r\n",
        "    family=open('familyNames.txt')\r\n",
        "    familyLines=family.readlines()\r\n",
        "    \r\n",
        "    # Female\r\n",
        "    female=open('femaleNames.txt')\r\n",
        "    femaleLines=female.readlines()\r\n",
        "\r\n",
        "    # Male\r\n",
        "    male=open('maleNames.txt')\r\n",
        "    maleLines=male.readlines()\r\n",
        "\r\n",
        "    # Username\r\n",
        "    username=open('usernames.txt')\r\n",
        "    usernameLines=username.readlines()\r\n",
        "\r\n",
        "    # Convert data to string\r\n",
        "    if x is 0:\r\n",
        "        d = \"{data:{'hostname':\" + maleLines[num] + \"-\" + familyLines[num] + \"}}\"\r\n",
        "    if x is 1:\r\n",
        "        d = \"{data:{'hostname':\" + femaleLines[num] + \"-\" + familyLines[num] + \"}}\"\r\n",
        "    if x is 2:\r\n",
        "        d = \"{data:{'hostname':\" + usernameLines[num] + \"}}\"\r\n",
        "    if x is 3:\r\n",
        "        d = \"{data:{'hostname':\" + femaleLines[num] + \"-\" + familyLines[num] + \"}}\"\r\n",
        "\r\n",
        "    # Return new non-host string\r\n",
        "    return str(d)"
      ],
      "outputs": [],
      "execution_count": 10,
      "metadata": {
        "collapsed": true,
        "jupyter": {
          "source_hidden": false,
          "outputs_hidden": false
        },
        "nteract": {
          "transient": {
            "deleting": false
          }
        },
        "gather": {
          "logged": 1605822434556
        }
      }
    },
    {
      "cell_type": "code",
      "source": [
        "data = host\r\n",
        "data_len = len(data)-1\r\n",
        "\r\n",
        "datetime_column = []\r\n",
        "host_column = []\r\n",
        "data_column = []\r\n",
        "label_column = []\r\n",
        "full_dataset = []"
      ],
      "outputs": [],
      "execution_count": 11,
      "metadata": {
        "collapsed": true,
        "jupyter": {
          "source_hidden": false,
          "outputs_hidden": false
        },
        "nteract": {
          "transient": {
            "deleting": false
          }
        },
        "gather": {
          "logged": 1605822437699
        }
      }
    },
    {
      "cell_type": "code",
      "source": [
        "# building the actual column lists\r\n",
        "for i in range(0,10000):\r\n",
        "    x = random.randint(0,1)\r\n",
        "    if x == 1:\r\n",
        "        data_column.append(dataJsonString(data[random.randint(0,data_len)]))\r\n",
        "        label_column.append(1)\r\n",
        "        full_dataset.append([data_column[i], label_column[i]])\r\n",
        "    else:\r\n",
        "        data_column.append(falseDataJsonString(i))\r\n",
        "        label_column.append(0)\r\n",
        "        full_dataset.append([data_column[i], label_column[i]])"
      ],
      "outputs": [
        {
          "output_type": "error",
          "ename": "KeyboardInterrupt",
          "evalue": "",
          "traceback": [
            "\u001b[0;31m---------------------------------------------------------------------------\u001b[0m",
            "\u001b[0;31mKeyboardInterrupt\u001b[0m                         Traceback (most recent call last)",
            "\u001b[0;32m<ipython-input-12-37debc72b4d8>\u001b[0m in \u001b[0;36m<module>\u001b[0;34m\u001b[0m\n\u001b[1;32m      7\u001b[0m         \u001b[0mfull_dataset\u001b[0m\u001b[0;34m.\u001b[0m\u001b[0mappend\u001b[0m\u001b[0;34m(\u001b[0m\u001b[0;34m[\u001b[0m\u001b[0mdata_column\u001b[0m\u001b[0;34m[\u001b[0m\u001b[0mi\u001b[0m\u001b[0;34m]\u001b[0m\u001b[0;34m,\u001b[0m \u001b[0mlabel_column\u001b[0m\u001b[0;34m[\u001b[0m\u001b[0mi\u001b[0m\u001b[0;34m]\u001b[0m\u001b[0;34m]\u001b[0m\u001b[0;34m)\u001b[0m\u001b[0;34m\u001b[0m\u001b[0;34m\u001b[0m\u001b[0m\n\u001b[1;32m      8\u001b[0m     \u001b[0;32melse\u001b[0m\u001b[0;34m:\u001b[0m\u001b[0;34m\u001b[0m\u001b[0;34m\u001b[0m\u001b[0m\n\u001b[0;32m----> 9\u001b[0;31m         \u001b[0mdata_column\u001b[0m\u001b[0;34m.\u001b[0m\u001b[0mappend\u001b[0m\u001b[0;34m(\u001b[0m\u001b[0mfalseDataJsonString\u001b[0m\u001b[0;34m(\u001b[0m\u001b[0mi\u001b[0m\u001b[0;34m)\u001b[0m\u001b[0;34m)\u001b[0m\u001b[0;34m\u001b[0m\u001b[0;34m\u001b[0m\u001b[0m\n\u001b[0m\u001b[1;32m     10\u001b[0m         \u001b[0mlabel_column\u001b[0m\u001b[0;34m.\u001b[0m\u001b[0mappend\u001b[0m\u001b[0;34m(\u001b[0m\u001b[0;36m0\u001b[0m\u001b[0;34m)\u001b[0m\u001b[0;34m\u001b[0m\u001b[0;34m\u001b[0m\u001b[0m\n\u001b[1;32m     11\u001b[0m         \u001b[0mfull_dataset\u001b[0m\u001b[0;34m.\u001b[0m\u001b[0mappend\u001b[0m\u001b[0;34m(\u001b[0m\u001b[0;34m[\u001b[0m\u001b[0mdata_column\u001b[0m\u001b[0;34m[\u001b[0m\u001b[0mi\u001b[0m\u001b[0;34m]\u001b[0m\u001b[0;34m,\u001b[0m \u001b[0mlabel_column\u001b[0m\u001b[0;34m[\u001b[0m\u001b[0mi\u001b[0m\u001b[0;34m]\u001b[0m\u001b[0;34m]\u001b[0m\u001b[0;34m)\u001b[0m\u001b[0;34m\u001b[0m\u001b[0;34m\u001b[0m\u001b[0m\n",
            "\u001b[0;32m<ipython-input-10-8406f936329c>\u001b[0m in \u001b[0;36mfalseDataJsonString\u001b[0;34m(num)\u001b[0m\n\u001b[1;32m     15\u001b[0m     \u001b[0;31m# Username\u001b[0m\u001b[0;34m\u001b[0m\u001b[0;34m\u001b[0m\u001b[0;34m\u001b[0m\u001b[0m\n\u001b[1;32m     16\u001b[0m     \u001b[0musername\u001b[0m\u001b[0;34m=\u001b[0m\u001b[0mopen\u001b[0m\u001b[0;34m(\u001b[0m\u001b[0;34m'usernames.txt'\u001b[0m\u001b[0;34m)\u001b[0m\u001b[0;34m\u001b[0m\u001b[0;34m\u001b[0m\u001b[0m\n\u001b[0;32m---> 17\u001b[0;31m     \u001b[0musernameLines\u001b[0m\u001b[0;34m=\u001b[0m\u001b[0musername\u001b[0m\u001b[0;34m.\u001b[0m\u001b[0mreadlines\u001b[0m\u001b[0;34m(\u001b[0m\u001b[0;34m)\u001b[0m\u001b[0;34m\u001b[0m\u001b[0;34m\u001b[0m\u001b[0m\n\u001b[0m\u001b[1;32m     18\u001b[0m \u001b[0;34m\u001b[0m\u001b[0m\n\u001b[1;32m     19\u001b[0m     \u001b[0;31m# Convert data to string\u001b[0m\u001b[0;34m\u001b[0m\u001b[0;34m\u001b[0m\u001b[0;34m\u001b[0m\u001b[0m\n",
            "\u001b[0;32m/anaconda/envs/azureml_py36/lib/python3.6/codecs.py\u001b[0m in \u001b[0;36mdecode\u001b[0;34m(self, input, final)\u001b[0m\n\u001b[1;32m    316\u001b[0m         \u001b[0;32mraise\u001b[0m \u001b[0mNotImplementedError\u001b[0m\u001b[0;34m\u001b[0m\u001b[0;34m\u001b[0m\u001b[0m\n\u001b[1;32m    317\u001b[0m \u001b[0;34m\u001b[0m\u001b[0m\n\u001b[0;32m--> 318\u001b[0;31m     \u001b[0;32mdef\u001b[0m \u001b[0mdecode\u001b[0m\u001b[0;34m(\u001b[0m\u001b[0mself\u001b[0m\u001b[0;34m,\u001b[0m \u001b[0minput\u001b[0m\u001b[0;34m,\u001b[0m \u001b[0mfinal\u001b[0m\u001b[0;34m=\u001b[0m\u001b[0;32mFalse\u001b[0m\u001b[0;34m)\u001b[0m\u001b[0;34m:\u001b[0m\u001b[0;34m\u001b[0m\u001b[0;34m\u001b[0m\u001b[0m\n\u001b[0m\u001b[1;32m    319\u001b[0m         \u001b[0;31m# decode input (taking the buffer into account)\u001b[0m\u001b[0;34m\u001b[0m\u001b[0;34m\u001b[0m\u001b[0;34m\u001b[0m\u001b[0m\n\u001b[1;32m    320\u001b[0m         \u001b[0mdata\u001b[0m \u001b[0;34m=\u001b[0m \u001b[0mself\u001b[0m\u001b[0;34m.\u001b[0m\u001b[0mbuffer\u001b[0m \u001b[0;34m+\u001b[0m \u001b[0minput\u001b[0m\u001b[0;34m\u001b[0m\u001b[0;34m\u001b[0m\u001b[0m\n",
            "\u001b[0;31mKeyboardInterrupt\u001b[0m: "
          ]
        }
      ],
      "execution_count": 12,
      "metadata": {
        "collapsed": true,
        "jupyter": {
          "source_hidden": false,
          "outputs_hidden": false
        },
        "nteract": {
          "transient": {
            "deleting": false
          }
        }
      }
    },
    {
      "cell_type": "code",
      "source": [
        "# datetime_column, host_column, and data_column are now filled each with 100,000 items\r\n",
        "\r\n",
        "fdf = pd.DataFrame(full_dataset,columns=['Data', 'Label'])\r\n",
        "\r\n",
        "print(\"Full Dataset:\\n\", full_dataset[:5])"
      ],
      "outputs": [],
      "execution_count": null,
      "metadata": {
        "collapsed": true,
        "jupyter": {
          "source_hidden": false,
          "outputs_hidden": false
        },
        "nteract": {
          "transient": {
            "deleting": false
          }
        }
      }
    },
    {
      "cell_type": "code",
      "source": [
        "# Determine if nested dictionary\r\n",
        "def isDataDict(d):\r\n",
        "    if type(d) is not dict:\r\n",
        "        return d\r\n",
        "    else:\r\n",
        "        return isDataDict(d.items())\r\n",
        "    return d"
      ],
      "outputs": [],
      "execution_count": null,
      "metadata": {
        "collapsed": true,
        "jupyter": {
          "source_hidden": false,
          "outputs_hidden": false
        },
        "nteract": {
          "transient": {
            "deleting": false
          }
        }
      }
    },
    {
      "cell_type": "code",
      "source": [
        "def calcAccuracy(target, predictions):\r\n",
        "    total = len(predictions)\r\n",
        "    correct = 0\r\n",
        "    for i in range(len(predictions)):\r\n",
        "        if target[i] == predictions[i]:\r\n",
        "            correct += 1\r\n",
        "        accuracy = float(correct) / float(total)\r\n",
        "    return accuracy"
      ],
      "outputs": [],
      "execution_count": null,
      "metadata": {
        "collapsed": true,
        "jupyter": {
          "source_hidden": false,
          "outputs_hidden": false
        },
        "nteract": {
          "transient": {
            "deleting": false
          }
        }
      }
    },
    {
      "cell_type": "code",
      "source": [
        "def main():\r\n",
        "    # Find number of times \"IP\" and \"Protocol\" appears in the JSON\r\n",
        "    index = countIP = countProtocol = countUDP = countTCP = 0\r\n",
        "    labels = fdf[\"Label\"].tolist()\r\n",
        "    hostData = fdf[\"Data\"].tolist()\r\n",
        "    hostData = isDataDict(hostData)\r\n",
        "\r\n",
        "    # Feature lists\r\n",
        "    nameFeatureList = []\r\n",
        "    lengthFeatureList = []\r\n",
        "    dashFeatureList = []\r\n",
        "    legalCharList = []\r\n",
        "    firstCharList = []    \r\n",
        "    completeFeatureList = []\r\n",
        "    oneUpper = []\r\n",
        "    \r\n",
        "\r\n",
        "    legalChars = set('0123456789abcdefghijklmnopqrstuvwxyzABCDEFGHIJKLMNOPQRSTUVWXYZ-')\r\n",
        "    # Parse the dictionary to find features\r\n",
        "    for index in hostData:\r\n",
        "        if len(index) > 4:                          # Check length\r\n",
        "            lengthFeatureList.append(1)    \r\n",
        "        else:\r\n",
        "            lengthFeatureList.append(0)\r\n",
        "        if \"-\" in index:                            # Check if dash is used\r\n",
        "            dashFeatureList.append(1)    \r\n",
        "        else:\r\n",
        "            dashFeatureList.append(0)\r\n",
        "        if set(index).issubset(legalChars):         # Check if illegal chars are used\r\n",
        "            legalCharList.append(1)    \r\n",
        "        else:\r\n",
        "            legalCharList.append(0)\r\n",
        "        if \"-\" in index[0] or index[0].isnumeric(): # Check is first char is valid\r\n",
        "            firstCharList.append(0)    \r\n",
        "        else:\r\n",
        "            firstCharList.append(1)\r\n",
        "        slicedString = index[1:]\r\n",
        "        # Check for hostnames that aren't at the beginning of the string.\r\n",
        "        if index[0].isupper() and slicedString.islower(): # Check is first character is upper and rest is lower\r\n",
        "            oneUpper.append(1)\r\n",
        "        else:\r\n",
        "            oneUpper.append(0)\r\n",
        "\r\n",
        "    # Combine all feature lists into one\r\n",
        "    for i in range(len(firstCharList)):\r\n",
        "        completeFeatureList.append([lengthFeatureList[i], dashFeatureList[i], legalCharList[i], firstCharList[i], oneUpper[i]])\r\n",
        "\r\n",
        "    print(\"List lengths: \", len(lengthFeatureList), len(dashFeatureList), len(legalCharList), len(firstCharList, len(oneUpper)))\r\n",
        "    \r\n",
        "    print(\"Complete List: \", completeFeatureList[:5])\r\n",
        "\r\n",
        "    # Train data\r\n",
        "    X = completeFeatureList # all the features\r\n",
        "    y = labels     # labels, 1 or 0\r\n",
        "    X_train, X_test, y_train, y_test = train_test_split(X, y, test_size=0.33, random_state=42)\r\n",
        "\r\n",
        "    # DECISION TREE CLASSIFIER\r\n",
        "    dt = DecisionTreeClassifier().fit(X_train, y_train)\r\n",
        "    dtZ = dt.predict(X_test)\r\n",
        "    print(\"Decision Tree: \", calcAccuracy(y_train, dtZ))\r\n",
        "\r\n",
        "    # KNN CLASSIFIER\r\n",
        "    knn = KNeighborsClassifier(n_neighbors=6)\r\n",
        "    knn.fit(X_train, y_train)\r\n",
        "    knnZ = knn.predict(X_test)\r\n",
        "    knnAccuracy = calcAccuracy(y_test, knnZ)\r\n",
        "    print(\"KNN Accuracy: \",knnAccuracy)\r\n",
        "\r\n",
        "    # LINEAR REGRESSION CLASSIFER\r\n",
        "    lr = LogisticRegression(random_state=0)\r\n",
        "    lr.fit(X_train, y_train)\r\n",
        "    lrZ = lr.predict(X_test)\r\n",
        "    # calculating accuracy and printing results\r\n",
        "    lrAccuracy = calcAccuracy(y_test, lrZ)\r\n",
        "    print(\"Logical Regression Accuracy: \",lrAccuracy)\r\n"
      ],
      "outputs": [],
      "execution_count": null,
      "metadata": {
        "collapsed": true,
        "jupyter": {
          "source_hidden": false,
          "outputs_hidden": false
        },
        "nteract": {
          "transient": {
            "deleting": false
          }
        }
      }
    },
    {
      "cell_type": "code",
      "source": [
        "main()"
      ],
      "outputs": [],
      "execution_count": null,
      "metadata": {
        "collapsed": true,
        "jupyter": {
          "source_hidden": false,
          "outputs_hidden": false
        },
        "nteract": {
          "transient": {
            "deleting": false
          }
        }
      }
    },
    {
      "cell_type": "code",
      "source": [],
      "outputs": [],
      "execution_count": null,
      "metadata": {
        "collapsed": true,
        "jupyter": {
          "source_hidden": false,
          "outputs_hidden": false
        },
        "nteract": {
          "transient": {
            "deleting": false
          }
        }
      }
    }
  ],
  "metadata": {
    "kernelspec": {
      "name": "python3-azureml",
      "language": "python",
      "display_name": "Python 3.6 - AzureML"
    },
    "language_info": {
      "name": "python",
      "version": "3.6.9",
      "mimetype": "text/x-python",
      "codemirror_mode": {
        "name": "ipython",
        "version": 3
      },
      "pygments_lexer": "ipython3",
      "nbconvert_exporter": "python",
      "file_extension": ".py"
    },
    "kernel_info": {
      "name": "python3-azureml"
    },
    "nteract": {
      "version": "nteract-front-end@1.0.0"
    }
  },
  "nbformat": 4,
  "nbformat_minor": 2
}